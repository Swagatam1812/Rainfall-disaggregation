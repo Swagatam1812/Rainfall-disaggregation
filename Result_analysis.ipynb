{
 "cells": [
  {
   "cell_type": "code",
   "execution_count": null,
   "id": "6b0b1aa5",
   "metadata": {},
   "outputs": [],
   "source": [
    "import pandas as pd\n",
    "import numpy as np\n",
    "import seaborn as sns \n",
    "import matplotlib.pyplot as plt\n",
    "\n",
    "%matplotlib inline\n",
    "import warnings\n",
    "warnings.filterwarnings(\"ignore\")\n",
    "import scipy.stats as stats\n",
    "import statsmodels.api as sm\n",
    "from scipy.stats import genextreme"
   ]
  },
  {
   "cell_type": "markdown",
   "id": "8cfe3f11",
   "metadata": {},
   "source": [
    "# preprocessing"
   ]
  },
  {
   "cell_type": "code",
   "execution_count": null,
   "id": "34d68765",
   "metadata": {},
   "outputs": [],
   "source": [
    "df_given= pd.read_csv(\"Analysis_.csv\")\n",
    "df_generated= pd.read_csv(\"Output_.csv\")"
   ]
  },
  {
   "cell_type": "code",
   "execution_count": null,
   "id": "830a8973",
   "metadata": {},
   "outputs": [],
   "source": [
    "df_given.dropna(inplace=True)\n",
    "df_generated.dropna(inplace=True)"
   ]
  },
  {
   "cell_type": "code",
   "execution_count": null,
   "id": "74ea5796",
   "metadata": {},
   "outputs": [],
   "source": [
    "df_given= df_given.iloc[:len(df_generated),:]\n",
    "df_generated= df_generated"
   ]
  },
  {
   "cell_type": "code",
   "execution_count": null,
   "id": "374310e6",
   "metadata": {},
   "outputs": [],
   "source": [
    "df_given"
   ]
  },
  {
   "cell_type": "code",
   "execution_count": null,
   "id": "14842442",
   "metadata": {},
   "outputs": [],
   "source": [
    "df_generated"
   ]
  },
  {
   "cell_type": "markdown",
   "id": "729cd638",
   "metadata": {},
   "source": [
    "# IDF curve"
   ]
  },
  {
   "cell_type": "code",
   "execution_count": null,
   "id": "206850d8",
   "metadata": {
    "scrolled": true
   },
   "outputs": [],
   "source": [
    "def idf(df):\n",
    "    duration = [1, 3, 6, 12, 24]\n",
    "    table = np.zeros((len(df['YEAR'].unique()), len(duration)), dtype=float)\n",
    "    \n",
    "    # Loop through each year\n",
    "    for i, year in enumerate(df['YEAR'].unique()):\n",
    "        # Extract rainfall values for the current year\n",
    "        rainfall_val = df[df['YEAR'] == year].values[:, 5:29]\n",
    "        \n",
    "        # Loop through each duration\n",
    "        for j, dur in enumerate(duration):\n",
    "            value = []\n",
    "            \n",
    "            # Calculate the sum of rainfall for the specified duration\n",
    "            for k in range(len(rainfall_val.flatten()) - dur + 1):\n",
    "                value.append(np.sum(rainfall_val.flatten()[k:k + dur])) \n",
    "            \n",
    "            # Store the maximum value in the table\n",
    "            table[i, j] = max(value)\n",
    "    \n",
    "    mean_val= np.mean(table,axis=0)\n",
    "    std_dev = np.std(table,axis=0)\n",
    "    \n",
    "    kt= [-0.164,0.719,1.305,2.592,3.137]\n",
    "    duration= [1,3,6,12,24]\n",
    "    \n",
    "    # the IDF table\n",
    "    \n",
    "    idf= np.zeros((len(kt),len(mean_val)),dtype= float)\n",
    "    \n",
    "    for i in range(len(kt)):\n",
    "        for j in range(len(mean_val)):\n",
    "            \n",
    "            idf[i,j]= (mean_val[j]+(kt[i]*std_dev[j]))/duration[j]\n",
    "            \n",
    "    return idf"
   ]
  },
  {
   "cell_type": "code",
   "execution_count": null,
   "id": "c41359e0",
   "metadata": {},
   "outputs": [],
   "source": [
    "def plot_idf(df):\n",
    "    \n",
    "    return_period= [\"2 year\",\"5 year\",\"10 year\",\"20 year\",\"50 year\",\"100 year\"]\n",
    "    duration     = [1,3,6,12,24]\n",
    "    \n",
    "    for i,(row,label) in enumerate(zip(df,return_period)):\n",
    "        plt.plot(duration,row,label=label)\n",
    "        \n",
    "    plt.xlabel(\"duration\")\n",
    "    plt.ylabel(\"intensity\")\n",
    "    plt.title(\"IDf curve for the generated data\")\n",
    "    plt.grid(True)\n",
    "    plt.legend()\n",
    "    plt.show()"
   ]
  },
  {
   "cell_type": "code",
   "execution_count": null,
   "id": "95770fa6",
   "metadata": {},
   "outputs": [],
   "source": [
    "def compare(idf_given,idf_generated):\n",
    "    rms_error = np.sqrt(((idf_given - idf_generated) ** 2).mean(axis=1))\n",
    "    percentage_error = (np.abs(idf_given - idf_generated) /idf_given) * 100\n",
    "    mean_percentage_error = percentage_error.mean(axis=1)\n",
    "    return_period= [\"2 year\",\"5 year\",\"10 year\",\"20 year\",\"50 year\"]\n",
    "    rms_error_value = np.sqrt(np.mean(np.square(idf_given - idf_generated)))\n",
    "    print(\"Obtained RMSE:\",rms_error_value)\n",
    "    print(\"Obtained % error:\",mean_percentage_error)\n",
    "    \n",
    "    plt.figure(figsize=(12, 6))\n",
    "    \n",
    "    plt.subplot(1, 2, 1)\n",
    "    sns.barplot(x=return_period, y=mean_percentage_error, palette=\"viridis\")\n",
    "    plt.title('% Error of IDF curves')\n",
    "    plt.ylabel('Value')\n",
    "    \n",
    "    plt.subplot(1, 2, 2)\n",
    "    sns.barplot(x=return_period, y=rms_error, palette=\"viridis\")\n",
    "    plt.title('RMS Error of IDF curves')\n",
    "    plt.ylabel('Value')  \n",
    "    "
   ]
  },
  {
   "cell_type": "code",
   "execution_count": null,
   "id": "ad876a42",
   "metadata": {},
   "outputs": [],
   "source": [
    "given_idf= idf(df_given)\n",
    "plot_idf(given_idf)"
   ]
  },
  {
   "cell_type": "code",
   "execution_count": null,
   "id": "d64e3250",
   "metadata": {},
   "outputs": [],
   "source": [
    "generated_idf= idf(df_generated)\n",
    "plot_idf(generated_idf)"
   ]
  },
  {
   "cell_type": "code",
   "execution_count": null,
   "id": "22c27449",
   "metadata": {},
   "outputs": [],
   "source": [
    "compare(given_idf,generated_idf)"
   ]
  },
  {
   "cell_type": "markdown",
   "id": "251c6bdf",
   "metadata": {},
   "source": [
    "# preprocessing after idf"
   ]
  },
  {
   "cell_type": "code",
   "execution_count": null,
   "id": "6b7c387b",
   "metadata": {},
   "outputs": [],
   "source": [
    "df_given.drop(columns=['INDEX', 'YEAR', 'MN', 'DT', 'DAY','TOTRF','TOT_Cal'],inplace=True)\n",
    "df_generated.drop(columns=['INDEX', 'YEAR', 'MN', 'DT', 'DAY','TOTRF','TOT_Cal'],inplace=True)"
   ]
  },
  {
   "cell_type": "markdown",
   "id": "34936ab4",
   "metadata": {},
   "source": [
    "# percentage 0 values"
   ]
  },
  {
   "cell_type": "code",
   "execution_count": null,
   "id": "0a926a36",
   "metadata": {},
   "outputs": [],
   "source": [
    "#Percentage zero values\n",
    "\n",
    "def compare_dry_spell(df,df_generated):\n",
    "    compare= [0,0]\n",
    "    compare[0]= (df==0).sum().sum()\n",
    "    compare[1]= (df_generated==0).sum().sum()\n",
    "    \n",
    "    total= [0,0]\n",
    "    total[0]= df.size\n",
    "    total[1]= df_generated.size\n",
    "    \n",
    "    print('Percent zero values in original dataset:',100*(compare[0]/total[0]))\n",
    "    print('Percent zero values in generated dataset:',100*(compare[1]/total[1])) \n",
    "    \n",
    "    labels = ['df', 'df_generated']\n",
    "    plt.bar(labels, compare)\n",
    "    plt.xlabel('Dataset')\n",
    "    plt.ylabel('Count of Zeros')\n",
    "    plt.title('Comparison of Zeros in Datasets')\n",
    "    plt.show()"
   ]
  },
  {
   "cell_type": "code",
   "execution_count": null,
   "id": "6028cbcf",
   "metadata": {},
   "outputs": [],
   "source": [
    "compare_dry_spell(df_given,df_generated)"
   ]
  },
  {
   "cell_type": "markdown",
   "id": "178f2a50",
   "metadata": {},
   "source": [
    "# given total rainfall vs calculated total rainfall"
   ]
  },
  {
   "cell_type": "code",
   "execution_count": null,
   "id": "c9578b9b",
   "metadata": {},
   "outputs": [],
   "source": [
    "a= np.sum(df_given.values[:,:],axis=1)\n",
    "b= np.sum(df_generated.values[:,:],axis=1)\n",
    "rms_error_value = np.sqrt(np.mean(np.square(a - b)))\n",
    "print('RMS error in given total rainfall vs generated rainfall:',rms_error_value)\n",
    "\n",
    "plt.plot(a,label='given_data')\n",
    "plt.plot(b,label='generated_data')\n",
    "plt.xlabel('Days')\n",
    "plt.ylabel('Total Rainfall')\n",
    "plt.legend()\n",
    "plt.show()"
   ]
  },
  {
   "cell_type": "markdown",
   "id": "44049fb9",
   "metadata": {},
   "source": [
    "# quantile plots, means & std deviations"
   ]
  },
  {
   "cell_type": "code",
   "execution_count": null,
   "id": "509df59c",
   "metadata": {},
   "outputs": [],
   "source": [
    "def plot(df, df_generated):\n",
    "    given_values = df.values.flatten()\n",
    "    generated_values = df_generated.values.flatten()\n",
    "    \n",
    "    dry_period_given = []\n",
    "    dry_period_generated = []\n",
    "    event_given = []\n",
    "    event_generated = []\n",
    "    vol_given = []\n",
    "    vol_generated = []\n",
    "    \n",
    "    flag = 0\n",
    "    count2 = 0\n",
    "    for i in range(len(given_values) - 1):\n",
    "        if flag == 1:\n",
    "            count2 += 1\n",
    "        if given_values[i] != 0 and given_values[i+1] == 0:\n",
    "            flag = 1\n",
    "        if given_values[i] == 0 and given_values[i+1] != 0:\n",
    "            dry_period_given.append(count2)\n",
    "            count2 = 0\n",
    "            flag = 0\n",
    "            \n",
    "    flag = 0\n",
    "    count2 = 0\n",
    "    for i in range(len(generated_values) - 1):\n",
    "        if flag == 1:\n",
    "            count2 += 1\n",
    "        if generated_values[i] != 0 and generated_values[i+1] == 0:\n",
    "            flag = 1\n",
    "        if generated_values[i] == 0 and generated_values[i+1] != 0:\n",
    "            dry_period_generated.append(count2)\n",
    "            count2 = 0\n",
    "            flag = 0  \n",
    "    \n",
    "    flag = 0\n",
    "    count = 0\n",
    "    count1 = 0\n",
    "    for i in range(len(given_values) - 1):\n",
    "        if flag == 1:\n",
    "            count += 1\n",
    "            count1 += given_values[i]\n",
    "        if given_values[i] == 0 and given_values[i+1] != 0:\n",
    "            flag = 1\n",
    "        if given_values[i] != 0 and given_values[i+1] == 0:\n",
    "            event_given.append(count)\n",
    "            vol_given.append(count1)\n",
    "            count1 = 0\n",
    "            count = 0\n",
    "            flag = 0\n",
    "\n",
    "    flag = 0\n",
    "    count = 0\n",
    "    count1 = 0\n",
    "    for i in range(len(generated_values) - 1):\n",
    "        if flag == 1:\n",
    "            count += 1\n",
    "            count1 += generated_values[i]\n",
    "        if generated_values[i] == 0 and generated_values[i+1] != 0:\n",
    "            flag = 1\n",
    "        if generated_values[i] != 0 and generated_values[i+1] == 0:\n",
    "            event_generated.append(count)\n",
    "            vol_generated.append(count1)\n",
    "            count1 = 0\n",
    "            count = 0\n",
    "            flag = 0\n",
    "    \n",
    "    event_given = np.array(event_given)\n",
    "    event_generated = np.array(event_generated)\n",
    "    vol_given = np.array(vol_given)\n",
    "    vol_generated = np.array(vol_generated)\n",
    "    dry_period_given = np.array(dry_period_given)\n",
    "    dry_period_generated = np.array(dry_period_generated)\n",
    "    \n",
    "    # Mean of event volume:    \n",
    "    mean_given = np.mean(vol_given)\n",
    "    mean_generated = np.mean(vol_generated)\n",
    "    print('________________________________________________________________________________________________________________')\n",
    "    print('Mean of event volume in original dataset:', mean_given)\n",
    "    print('Mean of event volume in generated dataset:', mean_generated)\n",
    "    print('________________________________________________________________________________________________________________')\n",
    "    \n",
    "    # Std dev of event volume:\n",
    "    given_sd_rain = np.std(vol_given)\n",
    "    generated_sd_rain = np.std(vol_generated)\n",
    "    print('________________________________________________________________________________________________________________')\n",
    "    print('Std Dev. of event volume in original dataset:', given_sd_rain)\n",
    "    print('Std Dev. of event volume in generated dataset:', generated_sd_rain)\n",
    "    print('________________________________________________________________________________________________________________')\n",
    "    \n",
    "    # Mean of event duration:    \n",
    "    mean__event_given = np.mean(event_given)\n",
    "    mean__event_generated = np.mean(event_generated)\n",
    "    print('________________________________________________________________________________________________________________')\n",
    "    print('Mean of event duration in original dataset:', mean__event_given)\n",
    "    print('Mean of event duration in generated dataset:', mean__event_generated)\n",
    "    print('________________________________________________________________________________________________________________')\n",
    "    \n",
    "    # Std dev of event duration:\n",
    "    given_sd_event = np.std(event_given)\n",
    "    generated_sd_event = np.std(event_generated)\n",
    "    print('________________________________________________________________________________________________________________')\n",
    "    print('Std Dev. of event duration in original dataset:', given_sd_event)\n",
    "    print('Std Dev. of event duration in generated dataset:', generated_sd_event)\n",
    "    print('________________________________________________________________________________________________________________')\n",
    "    \n",
    "    # Bar plots for mean and standard deviation\n",
    "    labels = ['Original', 'Generated']\n",
    "    \n",
    "    mean_vols = [mean_given, mean_generated]\n",
    "    std_vols = [given_sd_rain, generated_sd_rain]\n",
    "    \n",
    "    mean_events = [mean__event_given, mean__event_generated]\n",
    "    std_events = [given_sd_event, generated_sd_event]\n",
    "    \n",
    "    plt.figure(figsize=(12, 6))\n",
    "    plt.subplot(1, 2, 1)\n",
    "    sns.barplot(x=labels, y=mean_vols, palette=\"viridis\")\n",
    "    plt.title('Mean Event Volume')\n",
    "    plt.ylabel('Volume')\n",
    "    \n",
    "    plt.subplot(1, 2, 2)\n",
    "    sns.barplot(x=labels, y=std_vols, palette=\"viridis\")\n",
    "    plt.title('Standard Deviation of Event Volume')\n",
    "    plt.ylabel('Volume')\n",
    "    \n",
    "    plt.tight_layout()\n",
    "    plt.show()\n",
    "    \n",
    "    plt.figure(figsize=(12, 6))\n",
    "    plt.subplot(1, 2, 1)\n",
    "    sns.barplot(x=labels, y=mean_events, palette=\"coolwarm\")\n",
    "    plt.title('Mean Event Duration')\n",
    "    plt.ylabel('Duration')\n",
    "    \n",
    "    plt.subplot(1, 2, 2)\n",
    "    sns.barplot(x=labels, y=std_events, palette=\"coolwarm\")\n",
    "    plt.title('Standard Deviation of Event Duration')\n",
    "    plt.ylabel('Duration')\n",
    "    \n",
    "    plt.tight_layout()\n",
    "    plt.show()\n",
    "    \n",
    "    # QQ plots\n",
    "    fig, axes = plt.subplots(1, 3, figsize=(18, 6))\n",
    "    \n",
    "    sm.qqplot_2samples(vol_given, vol_generated, line='45', ax=axes[0])\n",
    "    axes[0].set_title('QQ Plot of Event Volume')\n",
    "    axes[0].set_xlabel('Given Event Volume')\n",
    "    axes[0].set_ylabel('Generated Event Volume')\n",
    "    \n",
    "    sm.qqplot_2samples(event_given, event_generated, line='45', ax=axes[1])\n",
    "    axes[1].set_title('QQ Plot of Event Duration')\n",
    "    axes[1].set_xlabel('Given Event Duration')\n",
    "    axes[1].set_ylabel('Generated Event Duration')\n",
    "    \n",
    "    sm.qqplot_2samples(dry_period_given, dry_period_generated, line='45', ax=axes[2])\n",
    "    axes[2].set_title('QQ Plot of Dry Period Lengths')\n",
    "    axes[2].set_xlabel('Given Dry Period Lengths')\n",
    "    axes[2].set_ylabel('Generated Dry Period Lengths')\n",
    "    \n",
    "    plt.tight_layout()\n",
    "    plt.show()\n",
    "\n",
    "# Sample usage (you need to replace df and df_generated with your actual dataframes)\n",
    "# plot(df, df_generated)\n"
   ]
  },
  {
   "cell_type": "code",
   "execution_count": null,
   "id": "baec1f88",
   "metadata": {
    "scrolled": false
   },
   "outputs": [],
   "source": [
    "plot(df_given, df_generated)"
   ]
  },
  {
   "cell_type": "code",
   "execution_count": null,
   "id": "273563b7",
   "metadata": {},
   "outputs": [],
   "source": []
  }
 ],
 "metadata": {
  "kernelspec": {
   "display_name": "Python 3 (ipykernel)",
   "language": "python",
   "name": "python3"
  },
  "language_info": {
   "codemirror_mode": {
    "name": "ipython",
    "version": 3
   },
   "file_extension": ".py",
   "mimetype": "text/x-python",
   "name": "python",
   "nbconvert_exporter": "python",
   "pygments_lexer": "ipython3",
   "version": "3.11.5"
  }
 },
 "nbformat": 4,
 "nbformat_minor": 5
}
