{
 "cells": [
  {
   "cell_type": "code",
   "execution_count": null,
   "id": "e76d6332",
   "metadata": {},
   "outputs": [],
   "source": [
    "import numpy as np\n",
    "import pandas as pd\n",
    "from sklearn.cluster import KMeans\n",
    "from matplotlib import pyplot as plt\n",
    "from sklearn.preprocessing import MinMaxScaler\n",
    "%matplotlib inline\n",
    "import warnings\n",
    "warnings.filterwarnings(\"ignore\")\n",
    "import math\n",
    "from mpl_toolkits.mplot3d import Axes3D\n",
    "import random\n",
    "import matplotlib.colors as mcolors\n",
    "import tensorflow as tf\n",
    "from tensorflow.keras import layers,models\n",
    "from keras.layers import BatchNormalization, Dropout"
   ]
  },
  {
   "cell_type": "code",
   "execution_count": null,
   "id": "3e82ff49",
   "metadata": {},
   "outputs": [],
   "source": [
    "#make the imges\n",
    "rainfall_data = pd.read_csv('input.csv')\n",
    "rainfall_data.drop(['INDEX','YEAR','TOT_Cal'],axis=1,inplace= True)\n",
    "rainfall_data.fillna(0,inplace= True)\n",
    "rainfall_data = rainfall_data[rainfall_data['TOTRF'] != 0]\n",
    "rainfall_data.reset_index(drop=True, inplace=True)"
   ]
  },
  {
   "cell_type": "code",
   "execution_count": null,
   "id": "aa0b81bc",
   "metadata": {},
   "outputs": [],
   "source": [
    "rainfall_data"
   ]
  },
  {
   "cell_type": "code",
   "execution_count": null,
   "id": "d298535e",
   "metadata": {},
   "outputs": [],
   "source": [
    "def make_img(df):\n",
    "    season_mapping = {\n",
    "    1: 1, 2: 1, 3: 1,\n",
    "    4: 2, 5: 2, 6: 2,\n",
    "    7: 3, 8: 3, 9: 3,\n",
    "    10: 4, 11: 4, 12: 4\n",
    "    }\n",
    "    df['Season'] = df['MN'].map(season_mapping)\n",
    "    df.drop(['MN', 'DT', 'DAY'],axis=1, inplace=True)\n",
    "    image_set= np.zeros((len(df),40,int(df.iloc[:,-2].max()+1)),dtype= float)\n",
    "    image_level= np.zeros(len(df),dtype= float)\n",
    "    hour= -1\n",
    "    for col_label, col in df.items():\n",
    "        if hour <= 23:\n",
    "            hour= hour+1\n",
    "            for index, value in col.items():\n",
    "                image_set[index,hour,int(value)]=1\n",
    "        else:\n",
    "            for index,row in df.iterrows():\n",
    "                image_set[index,-int(2 * row['Season'])::,:]=1\n",
    "                image_level[index]= row['TOTRF']\n",
    "    return image_level,image_set"
   ]
  },
  {
   "cell_type": "code",
   "execution_count": null,
   "id": "e659f175",
   "metadata": {},
   "outputs": [],
   "source": [
    "        image_level, image_set = make_img(rainfall_data)\n",
    "        model = models.Sequential()\n",
    "        model.add(layers.Conv1D(32, kernel_size=5, activation='relu', input_shape=(image_set.shape[1], image_set.shape[2])))\n",
    "        model.add(layers.MaxPooling1D(pool_size=2))\n",
    "        model.add(layers.Conv1D(16, kernel_size=3, activation='relu', input_shape=(image_set.shape[1], image_set.shape[2])))\n",
    "        model.add(layers.MaxPooling1D(pool_size=2))\n",
    "        model.add(layers.Flatten())\n",
    "        model.add(layers.Dense(16, activation='relu'))\n",
    "        model.add(layers.Dense(16, activation='relu'))\n",
    "        model.add(layers.Dense(1, activation='linear'))  # 1 neuron for regression output\n",
    "        model.compile(optimizer='adam', loss='mean_squared_error', metrics=['mae'])\n",
    "        \n",
    "        model.fit(image_set,image_level, epochs=10, batch_size=32, validation_split=0.2)"
   ]
  },
  {
   "cell_type": "code",
   "execution_count": null,
   "id": "37d3ade1",
   "metadata": {},
   "outputs": [],
   "source": [
    "from sklearn.metrics import mean_absolute_error, mean_squared_error\n",
    "# Assuming y_true contains the true total rainfall values and y_pred contains the predicted values\n",
    "y_true = np.array(image_level)  # Replace with your actual values\n",
    "y_pred = model.predict(image_set)  # Assuming model is your trained CNN model\n",
    "\n",
    "# Calculate Mean Absolute Error (MAE)\n",
    "mae = mean_absolute_error(y_true, y_pred)\n",
    "print(f'Mean Absolute Error (MAE): {mae}')\n",
    "\n",
    "# Calculate Mean Squared Error (MSE)\n",
    "mse = mean_squared_error(y_true, y_pred)\n",
    "print(f'Mean Squared Error (MSE): {mse}')\n",
    "relative_error = mae / np.mean(image_level) * 100\n",
    "print(f'Relative Error: {relative_error}%')\n",
    "print(f'Thus accuracy: {100 - relative_error}%')"
   ]
  },
  {
   "cell_type": "code",
   "execution_count": null,
   "id": "48a6a7f8",
   "metadata": {},
   "outputs": [],
   "source": [
    "image_set"
   ]
  },
  {
   "cell_type": "code",
   "execution_count": null,
   "id": "fead7d4b",
   "metadata": {},
   "outputs": [],
   "source": []
  }
 ],
 "metadata": {
  "kernelspec": {
   "display_name": "Python 3 (ipykernel)",
   "language": "python",
   "name": "python3"
  },
  "language_info": {
   "codemirror_mode": {
    "name": "ipython",
    "version": 3
   },
   "file_extension": ".py",
   "mimetype": "text/x-python",
   "name": "python",
   "nbconvert_exporter": "python",
   "pygments_lexer": "ipython3",
   "version": "3.11.5"
  }
 },
 "nbformat": 4,
 "nbformat_minor": 5
}
